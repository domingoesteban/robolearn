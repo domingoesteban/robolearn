{
 "cells": [
  {
   "cell_type": "code",
   "execution_count": 1,
   "metadata": {
    "collapsed": true
   },
   "outputs": [
    {
     "name": "stderr",
     "output_type": "stream",
     "text": [
      "/home/desteban/anaconda3/envs/py36/lib/python3.6/site-packages/h5py/__init__.py:34: FutureWarning: Conversion of the second argument of issubdtype from `float` to `np.floating` is deprecated. In future, it will be treated as `np.float64 == np.dtype(float).type`.\n  from ._conv import register_converters as _register_converters\n"
     ]
    }
   ],
   "source": [
    "import numpy as np\n",
    "\n",
    "import torch\n",
    "from torch.autograd import Variable\n",
    "import torch.nn as nn\n",
    "\n",
    "import tensorflow as tf"
   ]
  },
  {
   "cell_type": "markdown",
   "metadata": {},
   "source": [
    "# Backward (non-scalar output)"
   ]
  },
  {
   "cell_type": "markdown",
   "metadata": {},
   "source": [
    "## Pytorch"
   ]
  },
  {
   "cell_type": "code",
   "execution_count": 3,
   "metadata": {},
   "outputs": [
    {
     "name": "stdout",
     "output_type": "stream",
     "text": [
      "x is: [0.53659359 0.03588229 0.54802211]\n",
      "Grad of  [1.0, 0.5, 2.0] results in: \n",
      " 1.0000\n",
      " 0.5000\n",
      " 2.0000\n",
      "[torch.FloatTensor of size 3]\n",
      "\n",
      "Grad of  [1.0, 1.0, 1.0] results in: \n",
      " 1\n",
      " 1\n",
      " 1\n",
      "[torch.FloatTensor of size 3]\n",
      "\n"
     ]
    }
   ],
   "source": [
    "x_np = np.random.rand(3)\n",
    "print(\"x is:\", x_np)\n",
    "\n",
    "x_to = Variable(torch.Tensor(x_np), requires_grad=True)\n",
    "y_to = torch.add(x_to, 2)\n",
    "\n",
    "# Backward\n",
    "grad = [1.0, 0.5, 2.0]\n",
    "torch.autograd.backward([y_to], [torch.Tensor(grad)], retain_graph=True)\n",
    "print(\"Grad of \", grad, \"results in:\", x_to.grad.data)\n",
    "x_to.grad.zero_()  # Reset the gradient\n",
    "\n",
    "grad = [1.0, 1.0, 1.0]\n",
    "torch.autograd.backward([y_to], [torch.Tensor(grad)], retain_graph=True)\n",
    "print(\"Grad of \", grad, \"results in:\", x_to.grad.data)"
   ]
  },
  {
   "cell_type": "markdown",
   "metadata": {},
   "source": [
    "## Tensorflow"
   ]
  },
  {
   "cell_type": "code",
   "execution_count": 11,
   "metadata": {},
   "outputs": [
    {
     "name": "stdout",
     "output_type": "stream",
     "text": [
      "[array([1. , 0.5, 2. ], dtype=float32)]\n"
     ]
    }
   ],
   "source": [
    "tf.reset_default_graph()\n",
    "x_tf = tf.get_variable(\"x_tf\", initializer=x_np)\n",
    "y_tf = tf.add(x_tf, 2)\n",
    "grad = [1.0, 0.5, 2.0]\n",
    "grad_tf = tf.convert_to_tensor(grad, dtype=tf.float32)\n",
    "grad_op_tf = tf.gradients([y_tf], [x_tf], [grad_tf])\n",
    "sess = tf.Session()\n",
    "print(sess.run(grad_op_tf))"
   ]
  },
  {
   "cell_type": "code",
   "execution_count": 14,
   "metadata": {},
   "outputs": [
    {
     "name": "stdout",
     "output_type": "stream",
     "text": [
      "[array([1., 1., 1.], dtype=float32)]\n"
     ]
    }
   ],
   "source": [
    "tf.reset_default_graph()\n",
    "x_tf = tf.get_variable(\"x_tf\", initializer=x_np)\n",
    "y_tf = tf.add(x_tf, 2)\n",
    "grad = [1.0, 1.0, 1.0]\n",
    "grad_tf = tf.convert_to_tensor(grad, dtype=tf.float32)\n",
    "grad_op_tf = tf.gradients([y_tf], [x_tf], [grad_tf])\n",
    "sess = tf.Session()\n",
    "print(sess.run(grad_op_tf))"
   ]
  }
 ],
 "metadata": {
  "kernelspec": {
   "display_name": "Python 3",
   "language": "python",
   "name": "python3"
  },
  "language_info": {
   "codemirror_mode": {
    "name": "ipython",
    "version": 3
   },
   "file_extension": ".py",
   "mimetype": "text/x-python",
   "name": "python",
   "nbconvert_exporter": "python",
   "pygments_lexer": "ipython3",
   "version": "3.6.3"
  }
 },
 "nbformat": 4,
 "nbformat_minor": 1
}
