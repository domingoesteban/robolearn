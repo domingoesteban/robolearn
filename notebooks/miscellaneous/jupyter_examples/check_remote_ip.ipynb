{
 "cells": [
  {
   "cell_type": "markdown",
   "metadata": {
    "collapsed": true
   },
   "source": [
    "# Get IP address from Python\n",
    "\n",
    "References:\n",
    "- https://stackoverflow.com/questions/24196932/how-can-i-get-the-ip-address-of-eth0-in-python\n",
    "\n",
    "## Method 1: netifaces package"
   ]
  },
  {
   "cell_type": "code",
   "execution_count": 4,
   "metadata": {},
   "outputs": [
    {
     "name": "stdout",
     "output_type": "stream",
     "text": [
      "10.255.32.76\n"
     ]
    }
   ],
   "source": [
    "import netifaces as ni\n",
    "\n",
    "# Print all interfaces\n",
    "ni.interfaces()\n",
    "\n",
    "print(ni.ifaddresses('enp5s0')[ni.AF_INET][0]['addr'])"
   ]
  },
  {
   "cell_type": "markdown",
   "metadata": {},
   "source": [
    "## Method 2: With sockets"
   ]
  },
  {
   "cell_type": "code",
   "execution_count": 5,
   "metadata": {},
   "outputs": [
    {
     "data": {
      "text/plain": [
       "'10.255.32.76'"
      ]
     },
     "execution_count": 5,
     "metadata": {},
     "output_type": "execute_result"
    }
   ],
   "source": [
    "import socket\n",
    "import fcntl\n",
    "import struct\n",
    "\n",
    "def get_ip_address(ifname):\n",
    "    s = socket.socket(socket.AF_INET, socket.SOCK_DGRAM)\n",
    "    return socket.inet_ntoa(fcntl.ioctl(\n",
    "        s.fileno(),\n",
    "        0x8915,  # SIOCGIFADDR\n",
    "        struct.pack('256s', ifname[:15])\n",
    "    )[20:24])\n",
    "\n",
    "get_ip_address('enp5s0')"
   ]
  }
 ],
 "metadata": {
  "kernelspec": {
   "display_name": "Python 2",
   "language": "python",
   "name": "python2"
  },
  "language_info": {
   "codemirror_mode": {
    "name": "ipython",
    "version": 2
   },
   "file_extension": ".py",
   "mimetype": "text/x-python",
   "name": "python",
   "nbconvert_exporter": "python",
   "pygments_lexer": "ipython2",
   "version": "2.7.6"
  }
 },
 "nbformat": 4,
 "nbformat_minor": 0
}
