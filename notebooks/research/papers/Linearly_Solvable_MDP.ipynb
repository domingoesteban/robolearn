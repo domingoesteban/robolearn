{
 "cells": [
  {
   "cell_type": "code",
   "execution_count": 37,
   "metadata": {
    "collapsed": true
   },
   "outputs": [],
   "source": [
    "import numpy as np\n",
    "import matplotlib.pyplot as plt\n",
    "import math\n",
    "\n",
    "np.set_printoptions(precision=4)\n",
    "np.set_printoptions(suppress=True)"
   ]
  },
  {
   "cell_type": "markdown",
   "metadata": {},
   "source": [
    "# Coint-Toss example\n",
    "- State cost ($q$): q(Tails)=0 and q(Heads)=1\n",
    "- Passive dynamics: Unbiased coin q(Heads)=0.5\n",
    "- Action corresponds to biasing the coin\n",
    "- $\\mathbb{E}_u(cost) = \\mathbb{E}_u(q) + KL(u||q)$\n",
    "- $u^*(Heads)=0.27$. u(Heads)=0 is not optimal because involves too large cost"
   ]
  },
  {
   "cell_type": "code",
   "execution_count": 82,
   "metadata": {},
   "outputs": [
    {
     "name": "stderr",
     "output_type": "stream",
     "text": [
      "/home/desteban/anaconda3/envs/py36/lib/python3.6/site-packages/ipykernel_launcher.py:3: RuntimeWarning: divide by zero encountered in log\n",
      "  This is separate from the ipykernel package so we can avoid doing imports until\n",
      "/home/desteban/anaconda3/envs/py36/lib/python3.6/site-packages/ipykernel_launcher.py:3: RuntimeWarning: invalid value encountered in multiply\n",
      "  This is separate from the ipykernel package so we can avoid doing imports until\n"
     ]
    },
    {
     "data": {
      "image/png": "[encoded data removed]",
      "text/plain": [
       "<matplotlib.figure.Figure at 0x7f0ec0b26240>"
      ]
     },
     "metadata": {},
     "output_type": "display_data"
    },
    {
     "name": "stdout",
     "output_type": "stream",
     "text": [
      "opt_action: 0.26926926926926925\n",
      "opt_cost: 0.3798857663126666\n"
     ]
    }
   ],
   "source": [
    "def KLcoin(p,q):\n",
    "    \"\"\"Defines KL(p||q)\"\"\"\n",
    "    return np.sum(np.where(p != 0, p * np.log(p / q), 0), axis=0)\n",
    "\n",
    "state_costs = np.array([1, 0])  # [cost_head, cost_tail]\n",
    "\n",
    "actions = np.linspace(0, 1, 1000)  # Biased coin\n",
    "h_actions = actions  # Heads prob\n",
    "t_actions = 1-actions  # Tails prob\n",
    "\n",
    "passive_dyn = 0.5*np.ones_like(actions)  # Unbiased coin\n",
    "h_passive = passive_dyn\n",
    "t_passive = 1 - passive_dyn\n",
    "\n",
    "event_actions = np.vstack((h_actions, t_actions))\n",
    "event_passive = np.vstack((h_passive, t_passive))\n",
    "\n",
    "state_cost = event_actions.T.dot(state_costs)\n",
    "kl_cost = KLcoin(event_actions, event_passive)\n",
    "sum_cost = state_cost + kl_cost\n",
    "\n",
    "opt_idx = np.argmin(sum_cost)\n",
    "opt_action = actions[opt_idx]\n",
    "opt_cost = sum_cost[opt_idx]\n",
    "\n",
    "fig, ax = plt.subplots(1,1)\n",
    "\n",
    "ax.plot(actions, state_cost, color='blue', label='$E_u(q)$')\n",
    "ax.plot(actions, kl_cost, color='red', label='$KL(u||p)$')\n",
    "ax.plot(actions, sum_cost, color='black', label='$E_u(cost)$')\n",
    "ax.scatter(opt_action, opt_cost, color='black')\n",
    "\n",
    "ax.set_xlim([0, 1])\n",
    "ax.set_ylim([0, 1.75])\n",
    "ax.legend()\n",
    "\n",
    "plt.show()\n",
    "print('opt_action:', opt_action)\n",
    "print('opt_cost:', opt_cost)"
   ]
  },
  {
   "cell_type": "code",
   "execution_count": 89,
   "metadata": {},
   "outputs": [
    {
     "name": "stdout",
     "output_type": "stream",
     "text": [
      "Green cost_paper 0.0\n",
      "Green cost_calculated 0.0\n",
      "--\n",
      "Red cost_paper 0.6\n",
      "Red cost_calculated 0.6931471805599453\n"
     ]
    }
   ],
   "source": [
    "# Stochastic shortest path\n",
    "passive = 0.5  # Random walk between 2 children nodes\n",
    "cost = 1\n",
    "# Green node action_cost\n",
    "print('Green cost_paper', 0.0)\n",
    "kl = 0.5*math.log(0.5/0.5) + 0.5*math.log(0.5/0.5)\n",
    "print('Green cost_calculated', kl)\n",
    "print('--')\n",
    "# Red node action_cost\n",
    "print('Red cost_paper', 0.6)\n",
    "kl = 0.0*0 + 1.0*math.log(1.0/0.5)\n",
    "print('Red cost_calculated', kl)\n"
   ]
  }
 ],
 "metadata": {
  "kernelspec": {
   "display_name": "Python 3",
   "language": "python",
   "name": "python3"
  },
  "language_info": {
   "codemirror_mode": {
    "name": "ipython",
    "version": 3
   },
   "file_extension": ".py",
   "mimetype": "text/x-python",
   "name": "python",
   "nbconvert_exporter": "python",
   "pygments_lexer": "ipython3",
   "version": "3.6.3"
  }
 },
 "nbformat": 4,
 "nbformat_minor": 2
}
