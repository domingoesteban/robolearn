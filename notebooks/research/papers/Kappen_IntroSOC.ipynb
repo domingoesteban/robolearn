{
 "cells": [
  {
   "cell_type": "code",
   "execution_count": 5,
   "metadata": {
    "collapsed": true
   },
   "outputs": [],
   "source": [
    "import numpy as np\n",
    "import matplotlib.pyplot as plt"
   ]
  },
  {
   "cell_type": "markdown",
   "metadata": {
    "collapsed": true
   },
   "source": [
    "# Mass on a spring\n",
    "- Spring is at rest. $z=0$\n",
    "- Force exerted by spring: $F = -z$\n",
    "- Considering $F=ma$, $a=\\ddot{z}$, $m=1$. The equation of motion is: $\\ddot{z} = -z + u$.\n",
    "- $u$ is the control signal with $-1 < u < 1$\n",
    "- Problem: Given initial pos and vel, $z_i$ and $\\dot{z}_i$ at time $t_i$, find the control path $u(t_i \\rightarrow t_f)$ such that $z(t_f)$ is maximal.\n",
    "- Path cost: $R(x,u,t) = 0$\n",
    "- End cost: $\\phi(x) = C^T x$, with $C^T = (-1, 0)$"
   ]
  },
  {
   "cell_type": "code",
   "execution_count": 6,
   "metadata": {},
   "outputs": [],
   "source": [
    "# x[0] = z, x[1] = \\dot{z}. Then \\dot{x} = Ax + Bu\n",
    "A = np.array([[0, 1], [-1, 0]])\n",
    "B = np.array([0, 1])"
   ]
  },
  {
   "cell_type": "code",
   "execution_count": 23,
   "metadata": {},
   "outputs": [
    {
     "data": {
      "image/png": "[encoded data removed]",
      "text/plain": [
       "<matplotlib.figure.Figure at 0x7fd7c0690ef0>"
      ]
     },
     "metadata": {},
     "output_type": "display_data"
    }
   ],
   "source": [
    "# Optimal control Law:\n",
    "def opt_control(t):\n",
    "    less_than_pi = t < np.pi\n",
    "    return -1*less_than_pi + 1*~less_than_pi\n",
    "\n",
    "\n",
    "dt = 0.001\n",
    "Tend = 2*np.pi\n",
    "T = int(Tend/dt)\n",
    "\n",
    "ts = np.linspace(0, 2*np.pi, T)\n",
    "# forward_pass\n",
    "us = opt_control(ts)\n",
    "\n",
    "xs = np.zeros((2, T))\n",
    "dxs = np.zeros_like(xs)\n",
    "xs[0] = 0\n",
    "for ii in range(len(ts)-1):\n",
    "    dxs[:, ii] = A.dot(xs[:, ii]) + B.dot(us[ii])\n",
    "    xs[:, ii+1] = xs[:, ii] + dxs[:, ii]*dt\n",
    "\n",
    "plt.plot(ts, xs[0, :], color='blue')\n",
    "plt.plot(ts, xs[1, :], color='red')\n",
    "plt.show()"
   ]
  }
 ],
 "metadata": {
  "kernelspec": {
   "display_name": "Python 3",
   "language": "python",
   "name": "python3"
  },
  "language_info": {
   "codemirror_mode": {
    "name": "ipython",
    "version": 3
   },
   "file_extension": ".py",
   "mimetype": "text/x-python",
   "name": "python",
   "nbconvert_exporter": "python",
   "pygments_lexer": "ipython3",
   "version": "3.6.3"
  }
 },
 "nbformat": 4,
 "nbformat_minor": 2
}
