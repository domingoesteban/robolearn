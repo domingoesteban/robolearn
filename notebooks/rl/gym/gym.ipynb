{
 "cells": [
  {
   "cell_type": "markdown",
   "metadata": {},
   "source": [
    "# OpenAI Gym\n",
    "- It is a toolkit for developing and comparing reinforcement learning (RL) algorithms.\n",
    "- It consist of two parts:\n",
    "  - **gym open-source library**: A collection of test problems (**environments**) with a common interface.\n",
    "  - **OpenAI Gym service**: A site and API for comparing performance of trained agents"
   ]
  },
  {
   "cell_type": "markdown",
   "metadata": {},
   "source": [
    "# Observation\n",
    "An environment returns four values:\n",
    "- `observation` (object): environment-specific object representing observation of the environment.\n",
    "- `reward` (float): amount of reward achieved by the previous action.\n",
    "- `done` (boolean): If the task is divided into episodes, indicates that the episode has terminated.\n",
    "- `info` (dict): Diagnostic information useful for debugging. E.g. raw probabilities behid the env. last state change."
   ]
  },
  {
   "cell_type": "markdown",
   "metadata": {},
   "source": [
    "# Running an environment"
   ]
  },
  {
   "cell_type": "code",
   "execution_count": null,
   "metadata": {},
   "outputs": [
    {
     "name": "stdout",
     "output_type": "stream",
     "text": [
      "\u001b[33mWARN: gym.spaces.Box autodetected dtype as <class 'numpy.float32'>. Please provide explicit dtype.\u001b[0m\n"
     ]
    }
   ],
   "source": [
    "%matplotlib notebook\n",
    "# %matplotlib inline\n",
    "import gym\n",
    "import numpy as np\n",
    "import matplotlib.pyplot as plt\n",
    "from IPython import display\n",
    "\n",
    "environment_name = 'Acrobot-v1'\n",
    "\n",
    "env = gym.make(environment_name)\n",
    "# print(env.render(mode='rgb_array', close=False))\n",
    "# result = plt.imshow(env.render(mode='rgb_array', close=True))\n",
    "# print(result)"
   ]
  },
  {
   "cell_type": "code",
   "execution_count": 2,
   "metadata": {},
   "outputs": [
    {
     "data": {
      "text/plain": [
       "<IPython.core.display.Javascript object>"
      ]
     },
     "metadata": {},
     "output_type": "display_data"
    },
    {
     "data": {
      "text/html": [
       "<img src=\"data:image/png;base64,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\" width=\"640\">"
      ],
      "text/plain": [
       "<IPython.core.display.HTML object>"
      ]
     },
     "metadata": {},
     "output_type": "execute_result"
    },
    {
     "data": {
      "text/plain": [
       "<IPython.core.display.Javascript object>"
      ]
     },
     "metadata": {},
     "output_type": "display_data"
    },
    {
     "data": {
      "text/html": [
       "<img src=\"data:image/png;base64,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\" width=\"640\">"
      ],
      "text/plain": [
       "<IPython.core.display.HTML object>"
      ]
     },
     "metadata": {},
     "output_type": "execute_result"
    },
    {
     "ename": "TypeError",
     "evalue": "render() got an unexpected keyword argument 'close'",
     "traceback": [
      "\u001b[0;31m---------------------------------------------------------------------------\u001b[0m",
      "\u001b[0;31mTypeError\u001b[0m                                 Traceback (most recent call last)",
      "\u001b[0;32m<ipython-input-2-7aba44110473>\u001b[0m in \u001b[0;36m<module>\u001b[0;34m()\u001b[0m\n\u001b[1;32m     28\u001b[0m             \u001b[0mprint\u001b[0m\u001b[0;34m(\u001b[0m\u001b[0;34m\"Episode %02d finished after %d timesteps\"\u001b[0m \u001b[0;34m%\u001b[0m \u001b[0;34m(\u001b[0m\u001b[0mee\u001b[0m\u001b[0;34m+\u001b[0m\u001b[0;36m1\u001b[0m\u001b[0;34m,\u001b[0m \u001b[0mt\u001b[0m\u001b[0;34m+\u001b[0m\u001b[0;36m1\u001b[0m\u001b[0;34m)\u001b[0m\u001b[0;34m)\u001b[0m\u001b[0;34m\u001b[0m\u001b[0m\n\u001b[1;32m     29\u001b[0m             \u001b[0;32mbreak\u001b[0m\u001b[0;34m\u001b[0m\u001b[0m\n\u001b[0;32m---> 30\u001b[0;31m \u001b[0menv\u001b[0m\u001b[0;34m.\u001b[0m\u001b[0mrender\u001b[0m\u001b[0;34m(\u001b[0m\u001b[0mclose\u001b[0m\u001b[0;34m=\u001b[0m\u001b[0;32mTrue\u001b[0m\u001b[0;34m)\u001b[0m\u001b[0;34m\u001b[0m\u001b[0m\n\u001b[0m\u001b[1;32m     31\u001b[0m \u001b[0mplt\u001b[0m\u001b[0;34m.\u001b[0m\u001b[0mclose\u001b[0m\u001b[0;34m(\u001b[0m\u001b[0;34m'all'\u001b[0m\u001b[0;34m)\u001b[0m\u001b[0;34m\u001b[0m\u001b[0m\n",
      "\u001b[0;31mTypeError\u001b[0m: render() got an unexpected keyword argument 'close'"
     ],
     "output_type": "error"
    }
   ],
   "source": [
    "total_episodes = 2\n",
    "max_t = 50\n",
    "\n",
    "figs = [None for _ in range(total_episodes)]\n",
    "axs = [None for _ in range(total_episodes)]\n",
    "gym_renders = [None for _ in range(total_episodes)]\n",
    "\n",
    "env.reset()  # To have something to plot\n",
    "for ee in range(total_episodes):\n",
    "    figs[ee] = plt.figure()\n",
    "    axs[ee] = figs[ee].add_subplot(1,1,1)\n",
    "    gym_renders[ee] = axs[ee].imshow(env.render(mode='rgb_array'))\n",
    "    figs[ee].canvas.set_window_title('%s -- Iteration: %02d' % (environment_name, ee+1))\n",
    "\n",
    "for ee in range(total_episodes):\n",
    "    total_reward = 0\n",
    "    observation = env.reset()\n",
    "    for t in range(max_t):\n",
    "        gym_renders[ee].set_data(env.render(mode='rgb_array'))\n",
    "        figs[ee].canvas.draw()\n",
    "    #     display.clear_output(wait=True)\n",
    "    #     display.display(fig)\n",
    "        action = env.action_space.sample()  # Take a random action\n",
    "        observation, reward, done, info = env.step(action)\n",
    "        total_reward += reward\n",
    "        axs[ee].set_title('Iteration: %02d | t:%01d | R=%f' % (ee+1, t+1, total_reward))\n",
    "        if done:\n",
    "            print(\"Episode %02d finished after %d timesteps\" % (ee+1, t+1))\n",
    "            break\n",
    "# env.render(close=True)\n",
    "env.close()\n",
    "plt.close('all')"
   ]
  },
  {
   "cell_type": "markdown",
   "metadata": {
    "collapsed": true
   },
   "source": [
    "# Spaces\n",
    "The action and observations spaces can be any of the next `Space` objects:\n",
    "- `Discrete`: Fixed range of non-negative numbers\n",
    "- `Box`: A n-dimensional box, n-dimensional array\n",
    "- `Tuple`:\n",
    "- `Dict`:\n",
    "- `MultiBinary`:\n",
    "- others\n"
   ]
  },
  {
   "cell_type": "code",
   "execution_count": null,
   "metadata": {},
   "outputs": [],
   "source": [
    "import gym\n",
    "env = gym.make('CartPole-v0')\n",
    "\n",
    "# Check spaces types:\n",
    "print(env.action_space)\n",
    "print(env.observation_space)\n",
    "\n",
    "# Check bounds\n",
    "print(env.observation_space.high)\n",
    "print(env.observation_space.low)\n",
    "\n",
    "# Sample from the spaces\n",
    "obs_sample = env.observation_space.sample()\n",
    "act_sample = env.action_space.sample()\n",
    "print(obs_sample)\n",
    "print(act_sample)\n",
    "\n",
    "# Check proper action / observations\n",
    "assert env.action_space.contains(act_sample)"
   ]
  },
  {
   "cell_type": "markdown",
   "metadata": {},
   "source": [
    "## Environments\n",
    "- Classic control\n",
    "- Algorithmic\n",
    "- Atari\n",
    "- Board games\n",
    "- Box2D\n",
    "- MuJoCo\n",
    "- Parameter tuning\n",
    "- Toy text\n",
    "- Safety\n",
    "- Minecraft\n",
    "- PyGame Learning Environment\n",
    "- Soccer\n",
    "- Doom"
   ]
  },
  {
   "cell_type": "code",
   "execution_count": null,
   "metadata": {},
   "outputs": [],
   "source": [
    "from gym import envs\n",
    "print(envs.registry.all())"
   ]
  },
  {
   "cell_type": "markdown",
   "metadata": {},
   "source": [
    "# References\n",
    "- Gym documentation: [website](https://gym.openai.com/docs/)"
   ]
  }
 ],
 "metadata": {
  "kernelspec": {
   "display_name": "Python 3",
   "language": "python",
   "name": "python3"
  },
  "language_info": {
   "codemirror_mode": {
    "name": "ipython",
    "version": 3
   },
   "file_extension": ".py",
   "mimetype": "text/x-python",
   "name": "python",
   "nbconvert_exporter": "python",
   "pygments_lexer": "ipython3",
   "version": "3.6.3"
  }
 },
 "nbformat": 4,
 "nbformat_minor": 2
}
