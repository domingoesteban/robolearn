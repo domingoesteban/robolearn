{
 "cells": [
  {
   "cell_type": "code",
   "execution_count": 1,
   "metadata": {},
   "outputs": [],
   "source": [
    "import sys\n",
    "import numpy as np\n",
    "from robolearn.utils.experience_buffer import ExperienceBuffer"
   ]
  },
  {
   "cell_type": "code",
   "execution_count": 2,
   "metadata": {},
   "outputs": [
    {
     "data": {
      "application/javascript": [
       "if($(IPython.toolbar.selector.concat(' > #kill-run-all')).length == 0){\n",
       "  IPython.toolbar.add_buttons_group([\n",
       "        {\n",
       "             'label'   : 'kill and run-all',\n",
       "             'icon'    : 'fa fa-angle-double-down',\n",
       "             'callback': function(){\n",
       "                 IPython.notebook.kernel.restart();\n",
       "                 $(IPython.events).one('kernel_ready.Kernel',\n",
       "                                       function(){IPython.notebook.execute_all_cells();});\n",
       "             }\n",
       "        }\n",
       "    ], 'kill-run-all');\n",
       "}"
      ],
      "text/plain": [
       "<IPython.core.display.Javascript object>"
      ]
     },
     "metadata": {},
     "output_type": "display_data"
    }
   ],
   "source": [
    "%%javascript\n",
    "if($(IPython.toolbar.selector.concat(' > #kill-run-all')).length == 0){\n",
    "  IPython.toolbar.add_buttons_group([\n",
    "        {\n",
    "             'label'   : 'kill and run-all',\n",
    "             'icon'    : 'fa fa-angle-double-down',\n",
    "             'callback': function(){\n",
    "                 IPython.notebook.kernel.restart();\n",
    "                 $(IPython.events).one('kernel_ready.Kernel',\n",
    "                                       function(){IPython.notebook.execute_all_cells();});\n",
    "             }\n",
    "        }\n",
    "    ], 'kill-run-all');\n",
    "}"
   ]
  },
  {
   "cell_type": "code",
   "execution_count": null,
   "metadata": {},
   "outputs": [
    {
     "name": "stdout",
     "output_type": "stream",
     "text": [
      "[4 3 2 7 6 5 0 1]\n"
     ]
    }
   ],
   "source": [
    "N_trajs = 8\n",
    "T = 2\n",
    "buffer_size = 3\n",
    "good_or_bad = 'bad'\n",
    "temp_or_cost = 'cost'\n",
    "\n",
    "all_trajs = list()\n",
    "all_costs = list()\n",
    "for ii in range(10):\n",
    "    all_trajs.append(np.ones(T)*ii)\n",
    "    all_costs.append(all_trajs[-1])\n",
    "\n",
    "index_order = np.arange(N_trajs)\n",
    "np.random.shuffle(index_order)\n",
    "print(index_order)\n",
    "    "
   ]
  },
  {
   "cell_type": "code",
   "execution_count": null,
   "metadata": {},
   "outputs": [
    {
     "name": "stdout",
     "output_type": "stream",
     "text": [
      "[4. 4.]\n",
      "[3. 3.]\n",
      "[2. 2.]\n",
      "[7. 7.]\n",
      "[6. 6.]\n",
      "[5. 5.]\n",
      "[0. 0.]\n",
      "[1. 1.]\n",
      "########################################\n",
      "trajs [array([4., 4.]), array([3., 3.])]\n",
      "costs [array([4., 4.]), array([3., 3.])]\n",
      "len 2\n",
      "bcosts [array([4., 4.]), array([3., 3.])]\n",
      "--\n",
      "trajs [array([2., 2.]), array([7., 7.])]\n",
      "costs [array([2., 2.]), array([7., 7.])]\n",
      "Values [8.0, 6.0, 4.0] | number 12\n",
      "len 3\n",
      "bcosts [array([3., 3.]), array([2., 2.]), array([7., 7.])]\n",
      "--\n",
      "trajs [array([6., 6.]), array([5., 5.])]\n",
      "costs [array([6., 6.]), array([5., 5.])]\n"
     ]
    }
   ],
   "source": [
    "experience_buffer = ExperienceBuffer(buffer_size, good_or_bad, temp_or_cost)\n",
    "\n",
    "for ii in index_order:\n",
    "    print(all_trajs[ii])\n",
    "\n",
    "print('##'*20)\n",
    "    \n",
    "for nn in range(len(index_order)//2):\n",
    "    trajs_to_add = [all_trajs[index_order[2*nn]], all_trajs[index_order[2*nn+1]]]\n",
    "    costs_to_add = [all_costs[index_order[2*nn]], all_costs[index_order[2*nn+1]]]\n",
    "    print('trajs', trajs_to_add)\n",
    "    print('costs', costs_to_add)\n",
    "    experience_buffer.add(trajs_to_add, costs_to_add)\n",
    "    print('len', len(experience_buffer))\n",
    "    print('bcosts', experience_buffer._costs)\n",
    "    print('--')"
   ]
  },
  {
   "cell_type": "code",
   "execution_count": null,
   "metadata": {
    "collapsed": true
   },
   "outputs": [],
   "source": [
    "c = [10,20,30,40,5,1,6, -90,4,-1,-9, -2]\n",
    "print(len(c))\n",
    "# Worst\n",
    "indeces = np.argpartition(c,4)[:4]\n",
    "print(c)\n",
    "print(indeces)\n",
    "print([c[idx] for idx in indeces])\n",
    "\n",
    "# Best\n",
    "indeces = np.argpartition(c,-12)[-12:]\n",
    "print(c)\n",
    "print(indeces)\n",
    "print([c[idx] for idx in indeces])\n"
   ]
  }
 ],
 "metadata": {
  "kernelspec": {
   "display_name": "Python 3",
   "language": "python",
   "name": "python3"
  },
  "language_info": {
   "codemirror_mode": {
    "name": "ipython",
    "version": 3
   },
   "file_extension": ".py",
   "mimetype": "text/x-python",
   "name": "python",
   "nbconvert_exporter": "python",
   "pygments_lexer": "ipython3",
   "version": "3.6.3"
  }
 },
 "nbformat": 4,
 "nbformat_minor": 2
}
