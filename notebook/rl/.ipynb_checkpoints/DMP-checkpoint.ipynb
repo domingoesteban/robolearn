{
 "cells": [
  {
   "cell_type": "markdown",
   "metadata": {},
   "source": [
    "# DMP\n",
    "\n",
    "Control policy:\n",
    "- (traditional) state-centered representation $\\mathbf{u}_t = \\pi(\\mathbf{s}_t)$\n",
    "  - algorihms are hard to apply\n",
    "- Trajectory-centered representation: control policy reduced to a desired trajectory $[\\mathbf{x}_d(t), \\dot{\\mathbf{x}}_d(t)]$:\n",
    "$$\\mathbf{u}_t = K_x (\\mathbf{x}_d(t) - \\mathbf{x}) + K_{\\dot{x}}(\\dot{\\mathbf{x}}_d(t) - \\dot{\\mathbf{x}})$$\n",
    "  - Requires a (linear) feedback controller\n",
    "  - Reduces complexity of the learning problem\n",
    "  - Only valid around vicinity of the desired trajectory, not very flexible\n",
    "  - Hard to adapt the pre-planned trajectories (time and space)\n",
    "\n",
    "Dynamical system representation:\n",
    "- Define behavior by non-linear dynamical systems $\\dot{\\mathbf{x}}_d = f(\\mathbf{x}, \\theta) $\n",
    "- $[\\mathbf{x}_d(t), \\dot{\\mathbf{x}}_d(t)]$ are converted to motor commands by a (inverse dynamics) controller\n",
    "- Cancels non-linearities due to gravity or inertial forces"
   ]
  },
  {
   "cell_type": "markdown",
   "metadata": {},
   "source": [
    "A DMP defines a single movement, kinematic state (q, $\\dot{q}$, $\\ddot{q}$), or in task space.\n",
    "- Discrete DMP: The base system is a point attractor\n",
    "- Rhythmic DMP: The base system is a limit cycle\n"
   ]
  },
  {
   "cell_type": "markdown",
   "metadata": {},
   "source": [
    "# Discrete DMP\n",
    "A discrete DMP is a combination of a (2nd order) basic point attractor dynamics (base system) and a (nonlinear) 'force' dynamics: A damped spring attached to a goal position $g$, perturbed by a non-linear acceleration $f$."
   ]
  },
  {
   "cell_type": "markdown",
   "metadata": {},
   "source": [
    "## Point attractor dynamics:\n",
    "\\begin{equation}\n",
    "\\ddot{x} = K(g - x) - D(\\dot{x}) \\\\\n",
    "\\end{equation}\n",
    "where $x$ is the (joint) position, $\\dot{x}$ (joint) velocity, $\\ddot{x}$ (joint) acceleration, $g$ the goal, $K$ the spring constant, and $D$ the damping constant.\n",
    "\n",
    "- *For some $K$ and $D$ and $f=0$, $g$ is a unique point attractor *"
   ]
  },
  {
   "cell_type": "code",
   "execution_count": 1,
   "metadata": {
    "collapsed": true
   },
   "outputs": [],
   "source": [
    "import numpy as np\n",
    "import matplotlib.pyplot as plt"
   ]
  },
  {
   "cell_type": "code",
   "execution_count": 55,
   "metadata": {
    "collapsed": true
   },
   "outputs": [],
   "source": [
    "def attractor_dynamics(x, dx, g, K, D, T=20):\n",
    "    xs = np.zeros(T)\n",
    "    dxs = np.zeros(T)\n",
    "    ddxs = np.zeros(T)\n",
    "    xs[0] = x\n",
    "    dxs[0] = dx\n",
    "    for t in range(T-1):\n",
    "        ddxs[t] = K*(g - xs[t]) - D*(dxs[t])\n",
    "        dxs[t+1] = dxs[t] + ddxs[t]\n",
    "        xs[t+1] = xs[t] + dxs[t]\n",
    "    return xs, dxs, ddxs"
   ]
  },
  {
   "cell_type": "code",
   "execution_count": 56,
   "metadata": {},
   "outputs": [
    {
     "data": {
      "image/png": "[encoded data removed]",
      "text/plain": [
       "<matplotlib.figure.Figure at 0x7ffb17800630>"
      ]
     },
     "metadata": {},
     "output_type": "display_data"
    }
   ],
   "source": [
    "K = 0.1\n",
    "D = 0.5\n",
    "x = 0\n",
    "dx = 0\n",
    "g = 5\n",
    "\n",
    "xs, dxs, ddxs = attractor_dynamics(x, dx, g, K, D)\n",
    "\n",
    "fix, axs = plt.subplots(3, 1, sharex=True)\n",
    "axs[0].plot(xs, label='x')\n",
    "axs[0].legend()\n",
    "axs[1].plot(dxs, label='dx')\n",
    "axs[1].legend()\n",
    "axs[2].plot(ddxs, label='ddx')\n",
    "axs[2].legend()\n",
    "plt.show()"
   ]
  },
  {
   "cell_type": "markdown",
   "metadata": {},
   "source": [
    "## Force term dynamics\n",
    "### canonical system\n",
    "- Avoid explicit dependency on time for modelling $f$ with a **canonical system**.\n",
    "- Models the phase/progress of the movement (1st order \"leaky integrator\")\n",
    "$$\\dot{s} = - \\alpha s$$\n",
    "$s$ is initially set to 1, in the limit $s\\rightarrow0$"
   ]
  },
  {
   "cell_type": "code",
   "execution_count": 57,
   "metadata": {
    "collapsed": true
   },
   "outputs": [],
   "source": [
    "def canonical_dynamics(alpha, s0=1, T=20):\n",
    "    ss = np.zeros(T)\n",
    "    dss = np.zeros(T)\n",
    "    ss[0] = s0\n",
    "    for t in range(T-1):\n",
    "        dss[t] = -alpha*ss[t]\n",
    "        ss[t+1] = ss[t] + dss[t]\n",
    "    return ss, dss"
   ]
  },
  {
   "cell_type": "code",
   "execution_count": 58,
   "metadata": {},
   "outputs": [
    {
     "data": {
      "image/png": "[encoded data removed]",
      "text/plain": [
       "<matplotlib.figure.Figure at 0x7ffb178f93c8>"
      ]
     },
     "metadata": {},
     "output_type": "display_data"
    }
   ],
   "source": [
    "alpha = 0.2\n",
    "ss, dss = canonical_dynamics(alpha)\n",
    "\n",
    "fix, axs = plt.subplots(2, 1, sharex=True)\n",
    "axs[0].plot(ss, label='s')\n",
    "axs[0].legend()\n",
    "axs[1].plot(dss, label='ds')\n",
    "axs[1].legend()\n",
    "plt.show()"
   ]
  },
  {
   "cell_type": "markdown",
   "metadata": {},
   "source": [
    "### Gaussian basis functions\n",
    "Model $f$ with:\n",
    "$$f(s,g) = \\frac{\\sum_{i=1}^N \\psi_i(s) w_i}{\\sum_{i=1}^N \\psi_i(s)} s (g - x_0)$$\n",
    "where $y_0$ is the initial position of the system, $w_i$ is a weighting for a given basis function $\\psi_i$: \n",
    "$$\\psi_i(s) = \\exp(-h_i (s-c_i)^2)$$"
   ]
  },
  {
   "cell_type": "markdown",
   "metadata": {},
   "source": [
    "### Diminishing term\n",
    "The term $s$ guarantees that the contribution of the forcing term goes to zero over time, as the canonical system does. In the limit $s \\rightarrow 0$, $f$ vanishes."
   ]
  },
  {
   "cell_type": "markdown",
   "metadata": {},
   "source": [
    "### Spatial Scaling\n",
    "The term $(g-x_0)$ allows to scale the activation of each of the basis functions to be relative to the distance to the target, causing the system to cover more or less distance."
   ]
  },
  {
   "cell_type": "markdown",
   "metadata": {},
   "source": [
    "### Different numbers of basis functions\n",
    "As the complexity of the trajectory increases, so does the number of basis functions.\n"
   ]
  },
  {
   "cell_type": "markdown",
   "metadata": {},
   "source": [
    "### Spreading basis function centers\n",
    "We need that the centers $c_i$ of the basis function $\\psi_i$ be uniformly distributed over time, so avoid that all $\\psi_i$ centers be at the beginnig of time (because $x$ decreases exponentially because the canonical dynamics) and then at the end of time there is not influence of them.\n",
    "$c_i$ and $h_i$ are usually fixed by the designer. E.g., logarithmically distribute $c_i$ between 1 and 0."
   ]
  },
  {
   "cell_type": "markdown",
   "metadata": {},
   "source": [
    "## Temporal Scaling\n",
    "We want to be able to follow the same trajectory at different speeds, sometimes slow, others quick, but always tracing out the same path. This is obtained by including the therm $\\tau$:\n",
    "$$\\ddot{y} = \\tau^2(\\alpha_y (\\beta_y(g - y) - \\dot{y}) + f)$$\n",
    "$$\\dot{x} = \\tau (- \\alpha_x x)$$\n",
    "\n",
    "Then to slow the system $\\tau$ should be between 0 and 1, and to speed it up $\\tau$ should be greater than 1."
   ]
  },
  {
   "cell_type": "markdown",
   "metadata": {},
   "source": [
    "# Learning with DMP\n",
    "We want to found $w_i$ by supervised learning (imitation learning) or by optimization (reinforcement learning)."
   ]
  },
  {
   "cell_type": "markdown",
   "metadata": {},
   "source": [
    "## Imitating a desired path\n",
    "\n",
    "\n",
    "Assuming a desired trajectorya: $\\mathbf{y}_d$, $\\dot{\\mathbf{y}}_d$, , $\\ddot{\\mathbf{y}}_d$, we want to get the non-linear function $f$ such \n",
    "\n",
    "the forcing term affects the system acceleration, then:\n",
    "$$\\mathbf{f}_d = \\ddot{\\mathbf{y}}_d - \\alpha_y (\\beta_y(g - \\mathbf{y}_d) - \\mathbf{\\dot{y}}_d)$$ \n",
    "\n",
    "In **locally weighted regression**, we want to minimize:\n",
    "$$ \\sum_t \\psi_i (t) (f_d(t) - w_i (x(t) (g-y_0)))^2,$$\n",
    "and the solution is \n",
    "$$w_i = \\frac{\\mathbf{s}^T \\psi_i \\mathbf{f}_d}{\\mathbf{s}^T \\psi_i \\mathbf{s}}$$\n",
    "where\n",
    "\\begin{equation}\n",
    "s = \\begin{pmatrix}\n",
    "x_{t0}(g - y_0)\\\\ \n",
    "\\vdots \\\\ \n",
    "x_{tN}(g - y_0) \n",
    "\\end{pmatrix}\n",
    ",\n",
    "\\psi_i = \\begin{pmatrix}\n",
    "\\psi_i(t_0) & \\cdots  & 0\\\\ \n",
    "0 & \\ddots  & 0\\\\ \n",
    "0 & \\cdots & \\psi_i(t_n)\n",
    "\\end{pmatrix}\n",
    "\\end{equation}"
   ]
  },
  {
   "cell_type": "markdown",
   "metadata": {},
   "source": [
    "## RL with DMPs\n",
    "- We want to learn the weight vector $w$: all the algorithms exploit the linear dependence of $f$ on its parameters, call-parameters are always kept fixed.\n",
    "- Work only for the stroke-based/episodic for a single motion primitive (no sequencing/combination)\n",
    "- Local search methods: We need to provide a close to optimal initial solution (by IL)\n",
    "- Only work for the same or at least similar initial conditions for each episode (cannot choose different parameters for different initial conditions).\n",
    "- 3 main approaches can be found:\n",
    "  - Policy-gradient based algorithm: hyperparams: learning rate, exploration. E.g eNAC (episodic natural actor critic)\n",
    "  - Expectation-Maximization (EM)-style updates. hyperparams: exploration. PoWER (pol.learn.by weighting exploration with the returns)\n",
    "  - Stochastic optimal control: hyperparams: exploration. PI2 (pol.improv. with path integrals)"
   ]
  },
  {
   "cell_type": "markdown",
   "metadata": {},
   "source": [
    "# References\n",
    "- DeWolf, Travis (2003): Blog: https://github.com/studywolf: [DMP (part 1)](https://studywolf.wordpress.com/2013/11/16/dynamic-movement-primitives-part-1-the-basics/),\n",
    "[DMP (part 2)](https://studywolf.wordpress.com/2013/12/05/dynamic-movement-primitives-part-2-controlling-a-system-and-comparison-with-direct-trajectory-control/)\n",
    "- Neumann, Gerhard (2009): DMPs for Robot Control, [slides](http://www.igi.tugraz.at/lehre/SeminarC/WS09/neumann_C_2009.pdf)"
   ]
  },
  {
   "cell_type": "markdown",
   "metadata": {},
   "source": [
    "# Code\n",
    "- pyDMPs: [github](https://github.com/studywolf/pydmps/tree/master/pydmps)\n",
    "- Schaal matlab code: [ucd_repo](http://www-clmc.usc.edu/Resources/Software)"
   ]
  }
 ],
 "metadata": {
  "kernelspec": {
   "display_name": "Python 3",
   "language": "python",
   "name": "python3"
  },
  "language_info": {
   "codemirror_mode": {
    "name": "ipython",
    "version": 3
   },
   "file_extension": ".py",
   "mimetype": "text/x-python",
   "name": "python",
   "nbconvert_exporter": "python",
   "pygments_lexer": "ipython3",
   "version": "3.6.1"
  }
 },
 "nbformat": 4,
 "nbformat_minor": 2
}
